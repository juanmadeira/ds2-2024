{
 "cells": [
  {
   "attachments": {},
   "cell_type": "markdown",
   "metadata": {},
   "source": [
    "1. Faça um programa que leia o nome de um vendedor, o seu salário fixo e o total de\n",
    "vendas efetuadas por ele no mês (em dinheiro). Sabendo que este vendedor ganha\n",
    "15% de comissão sobre suas vendas efetuadas, informar o total a receber no final\n",
    "do mês.\n",
    "O salário fixo e o total de vendas devem ser tratados como pronto flutuante.\n",
    "A saída deve ser: “A remuneração final de nome é de R$ valor a receber.”"
   ]
  },
  {
   "cell_type": "code",
   "execution_count": 1,
   "metadata": {},
   "outputs": [
    {
     "name": "stdout",
     "output_type": "stream",
     "text": [
      "A remuneração final de cara é de R$ 1015.0\n"
     ]
    }
   ],
   "source": [
    "nome = input(\"Insira o nome do vendedor:\")\n",
    "salarioInicial = float(input(\"Insira o salário do vendedor (em R$):\"))\n",
    "totalVendas = float(input(\"Insira o total de vendas (em R$):\"))\n",
    "\n",
    "salarioFinal = salarioInicial + (totalVendas * 0.15)\n",
    "\n",
    "print(\"A remuneração final de\", nome, \"é de R$\", salarioFinal)"
   ]
  },
  {
   "attachments": {},
   "cell_type": "markdown",
   "metadata": {},
   "source": [
    "2. Joãozinho quer calcular e mostrar a quantidade de litros de combustível gastos em\n",
    "uma viagem, ao utilizar um automóvel que faz 12 KM/L. Para isso, ele gostaria\n",
    "que você o auxiliasse através de um simples programa. Para efetuar o cálculo,\n",
    "deve-se fornecer o tempo gasto na viagem (em horas) e a velocidade média durante\n",
    "a mesma (em km/h). Assim, pode-se obter distância percorrida e, em seguida,\n",
    "calcular quantos litros seriam necessários.\n",
    "Ao final mostre a seguinte mensagem: “A quantidade de gasolina é de consumo.”"
   ]
  },
  {
   "cell_type": "code",
   "execution_count": null,
   "metadata": {},
   "outputs": [],
   "source": []
  }
 ],
 "metadata": {
  "kernelspec": {
   "display_name": "Python 3",
   "language": "python",
   "name": "python3"
  },
  "language_info": {
   "codemirror_mode": {
    "name": "ipython",
    "version": 3
   },
   "file_extension": ".py",
   "mimetype": "text/x-python",
   "name": "python",
   "nbconvert_exporter": "python",
   "pygments_lexer": "ipython3",
   "version": "3.10.12"
  },
  "orig_nbformat": 4,
  "vscode": {
   "interpreter": {
    "hash": "916dbcbb3f70747c44a77c7bcd40155683ae19c65e1c03b4aa3499c5328201f1"
   }
  }
 },
 "nbformat": 4,
 "nbformat_minor": 2
}
