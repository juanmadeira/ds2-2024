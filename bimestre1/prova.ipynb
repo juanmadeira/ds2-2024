{
 "cells": [
  {
   "cell_type": "markdown",
   "metadata": {},
   "source": [
    "Escreva uma função que receba a longitude do ponto inicial e do ponto de destino de um navio pirata, juntamente com sua velocidade (em Km/h). \n",
    "\n",
    "A função deve calcular e exibir a posição do navio ao final de cada dia de viagem, considerando que a rota será ao longo da linha do Equador e que a variação de Km para cada grau de longitude é constante. \n",
    "\n",
    "Suponha que um grau de longitude corresponda a 111 Km.\n",
    "\n",
    "Os valores usados para testar a função podem estar incluídos diretamente no código (não precisam ser solicitados ao usuário).\n",
    "\n",
    "A saída deve ser exibida como nos exemplos de saída abaixo e a localização deve ser apresentada como um ponto flutuante com duas casas depois da virgula ( . no Python)."
   ]
  },
  {
   "cell_type": "markdown",
   "metadata": {},
   "source": [
    "longitude inicial = 10\n",
    "longitude destino = 210\n",
    "velocidade = 100\n",
    "\n",
    "No final do dia 1, a posição do navio é 31.62 graus de longitude.\n",
    "No final do dia 2, a posição do navio é 53.24 graus de longitude.\n",
    "No final do dia 3, a posição do navio é 74.86 graus de longitude.\n",
    "No final do dia 4, a posição do navio é 96.49 graus de longitude.\n",
    "No final do dia 5, a posição do navio é 118.11 graus de longitude.\n",
    "No final do dia 6, a posição do navio é 139.73 graus de longitude.\n",
    "No final do dia 7, a posição do navio é 161.35 graus de longitude.\n",
    "No final do dia 8, a posição do navio é 182.97 graus de longitude.\n",
    "No final do dia 9, a posição do navio é 204.59 graus de longitude.\n",
    "No final do dia 10, a posição do navio é 210.00 graus de longitude."
   ]
  },
  {
   "cell_type": "markdown",
   "metadata": {},
   "source": [
    "longitude inicial = 10\n",
    "longitude destino = 360\n",
    "velocidade = 200\n",
    "\n",
    "No final do dia 1, a posição do navio é 53.24 graus de longitude.\n",
    "No final do dia 2, a posição do navio é 96.49 graus de longitude.\n",
    "No final do dia 3, a posição do navio é 139.73 graus de longitude.\n",
    "No final do dia 4, a posição do navio é 182.97 graus de longitude.\n",
    "No final do dia 5, a posição do navio é 226.22 graus de longitude.\n",
    "No final do dia 6, a posição do navio é 269.46 graus de longitude.\n",
    "No final do dia 7, a posição do navio é 312.70 graus de longitude.\n",
    "No final do dia 8, a posição do navio é 355.95 graus de longitude.\n",
    "No final do dia 9, a posição do navio é 360.00 graus de longitude."
   ]
  },
  {
   "cell_type": "code",
   "execution_count": null,
   "metadata": {},
   "outputs": [],
   "source": [
    "# Juan Madeira e Miguel Martins\n",
    "# Turma 4C\n",
    "# Prova de Python 1º bimestre (prática)\n",
    "\n",
    "# declaração de variáveis\n",
    "long_ini = float(input('Insira a longitude inicial (em graus):'))\n",
    "long_end = float(input('Insira o ponto do destino (em graus):'))\n",
    "spd = float(input('Insira a velocidade do navio pirata (em km/h):'))\n",
    "\n",
    "# conversão pra km\n",
    "long_km = long_end-long_ini\n",
    "\n",
    "# distância percorrida por dia\n",
    "spd_day = spd*24\n",
    "\n",
    "# distância em graus percorrida por dia\n",
    "long_deg = float(spd_day/111)\n",
    "\n",
    "# primeiro movimento\n",
    "pos_day = long_ini + long_deg\n",
    "\n",
    "# primeiro dia\n",
    "day=1\n",
    "\n",
    "if spd == 0: # se a velocidade for zero\n",
    "    print(\"O navio pirata não sai do lugar UwU.\")\n",
    "else:\n",
    "    while pos_day < long_end: # grau alcançado no fim do dia\n",
    "        print(\"No final do dia\",day,\"a posição do navio é {pos:.2f} graus de longitude.\".format(pos = pos_day))\n",
    "        pos_day += long_deg\n",
    "        day+=1\n",
    "    # destino\n",
    "    print(\"No final do dia\",day,\"a posição do navio é {long:.2f} graus de longitude.\".format(long = long_end))"
   ]
  }
 ],
 "metadata": {
  "language_info": {
   "name": "python"
  }
 },
 "nbformat": 4,
 "nbformat_minor": 2
}
