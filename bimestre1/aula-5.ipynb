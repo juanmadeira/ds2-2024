{
 "cells": [
  {
   "attachments": {},
   "cell_type": "markdown",
   "metadata": {},
   "source": [
    "1. Escreva uma função que recebe dois parâmetros e imprime o menor dos dois. Se eles forem iguais, imprima que eles são iguais."
   ]
  },
  {
   "cell_type": "code",
   "execution_count": 45,
   "metadata": {},
   "outputs": [
    {
     "name": "stdout",
     "output_type": "stream",
     "text": [
      "O menor número é o 1\n"
     ]
    }
   ],
   "source": [
    "def menorNumero(n, n1):\n",
    "    menor = n\n",
    "\n",
    "    if n1 < menor :\n",
    "        menor = n1\n",
    "\n",
    "    elif n1 == menor :\n",
    "        return print('Os números são iguais.')\n",
    "\n",
    "    return print('O menor número é o',menor)\n",
    "\n",
    "n = input('Insira o primeiro número: ')\n",
    "n1 = input('Insira o segundo numero: ')\n",
    "\n",
    "menorNumero(n, n1)"
   ]
  },
  {
   "attachments": {},
   "cell_type": "markdown",
   "metadata": {},
   "source": [
    "2. Escreva uma função que recebe um número n como parâmetro e imprime se n é positivo ou negativo."
   ]
  },
  {
   "cell_type": "code",
   "execution_count": 30,
   "metadata": {},
   "outputs": [
    {
     "name": "stdout",
     "output_type": "stream",
     "text": [
      "O número é positivo\n"
     ]
    }
   ],
   "source": [
    "def positivoNumero(n):\n",
    "    if n > 0 :\n",
    "        return print('O número é positivo')\n",
    "    \n",
    "    elif n < 0 :\n",
    "        return print('O número é negativo')\n",
    "    \n",
    "    elif n == 0:\n",
    "        return print('O número não é positivo nem negativo')\n",
    "\n",
    "n = int(input('Insira um número: '))\n",
    "\n",
    "positivoNumero(n)"
   ]
  },
  {
   "attachments": {},
   "cell_type": "markdown",
   "metadata": {},
   "source": [
    "3. Escreva uma função que recebe dois números (a e b) como parâmetro e retorna True caso a soma dos dois seja maior que um terceiro parâmetro, chamado limite."
   ]
  },
  {
   "cell_type": "code",
   "execution_count": 44,
   "metadata": {},
   "outputs": [
    {
     "data": {
      "text/plain": [
       "True"
      ]
     },
     "execution_count": 44,
     "metadata": {},
     "output_type": "execute_result"
    }
   ],
   "source": [
    "def limiteFunc(a, b, limite):\n",
    "    if (a + b) > limite:\n",
    "        return True\n",
    "    \n",
    "    else:\n",
    "        return False\n",
    "    \n",
    "a = input('Insira o primeiro número: ')\n",
    "b = input('Insira o segundo número: ')\n",
    "\n",
    "limite = input('Insira o parâmetro limite:')\n",
    "\n",
    "print(limiteFunc(a, b, limite))"
   ]
  },
  {
   "attachments": {},
   "cell_type": "markdown",
   "metadata": {},
   "source": [
    "4. Escreva uma função que recebe um número como parâmetro, a função imprime \"Fizz\" se o número for múltiplo de três, imprime \"Buzz\" se o número for múltiplo de cinco, e imprime \"FizzBuzz\" se o número for múltiplo de três e cinco. Caso o número não seja múltiplo nem de três nem de cinco, ele deve ser impresso. Note que, ao contrário das funções anteriores, sua função não deve retornar nada. Ela precisa simplesmente imprimir o que foi pedido."
   ]
  },
  {
   "cell_type": "code",
   "execution_count": 54,
   "metadata": {},
   "outputs": [
    {
     "name": "stdout",
     "output_type": "stream",
     "text": [
      "FizzBuzz\n"
     ]
    }
   ],
   "source": [
    "def fizzBuzz(n):\n",
    "    if n % 3 == 0 and n % 5 == 0 :\n",
    "        print('FizzBuzz')\n",
    "\n",
    "    elif n % 3 == 0 :\n",
    "        print('Fizz')\n",
    "\n",
    "    elif n % 5 == 0 :\n",
    "        print('Buzz')\n",
    "    \n",
    "n = int(input('Insira um número: '))\n",
    "\n",
    "fizzBuzz(n)"
   ]
  },
  {
   "attachments": {},
   "cell_type": "markdown",
   "metadata": {},
   "source": [
    "5. Escreva uma função que recebe como entrada uma lista de números e retorna True se um número passado como parâmetro está presente na lista."
   ]
  },
  {
   "cell_type": "code",
   "execution_count": 66,
   "metadata": {},
   "outputs": [
    {
     "name": "stdout",
     "output_type": "stream",
     "text": [
      "True\n"
     ]
    }
   ],
   "source": [
    "def lista(n):\n",
    "    flag = False\n",
    "    k = []\n",
    "    c = 0\n",
    "    while c != -1:\n",
    "        c = float(input('Digite um número para sua lista (digite -1 para finalizar):'))\n",
    "        if (c != -1):\n",
    "            k.append(c)\n",
    "\n",
    "    for x in k:\n",
    "        if x == n:\n",
    "            flag = True\n",
    "            \n",
    "    return flag\n",
    "\n",
    "n = float(input('Insira um número como parâmetro:'))\n",
    "print(lista(n))"
   ]
  },
  {
   "attachments": {},
   "cell_type": "markdown",
   "metadata": {},
   "source": [
    "6. Escreva uma função que recebe como entrada um número inteiro postivo n e retorne a soma de todos os inteiros positivos menores ou iguais a n."
   ]
  },
  {
   "cell_type": "code",
   "execution_count": 70,
   "metadata": {},
   "outputs": [],
   "source": [
    "def somaInteirosMenores(n):\n",
    "    soma = 0\n",
    "    for x in range(n + 1):\n",
    "        soma += x\n",
    "\n",
    "    return soma\n",
    "        \n",
    "\n",
    "n = int(input('Insira um número inteiro e positivo: '))\n",
    "\n",
    "somaInteirosMenores(n)"
   ]
  }
 ],
 "metadata": {
  "kernelspec": {
   "display_name": "Python 3",
   "language": "python",
   "name": "python3"
  },
  "language_info": {
   "codemirror_mode": {
    "name": "ipython",
    "version": 3
   },
   "file_extension": ".py",
   "mimetype": "text/x-python",
   "name": "python",
   "nbconvert_exporter": "python",
   "pygments_lexer": "ipython3",
   "version": "3.10.12"
  },
  "orig_nbformat": 4,
  "vscode": {
   "interpreter": {
    "hash": "916dbcbb3f70747c44a77c7bcd40155683ae19c65e1c03b4aa3499c5328201f1"
   }
  }
 },
 "nbformat": 4,
 "nbformat_minor": 2
}
