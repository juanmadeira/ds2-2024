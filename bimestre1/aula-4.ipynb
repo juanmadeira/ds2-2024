{
 "cells": [
  {
   "attachments": {},
   "cell_type": "markdown",
   "metadata": {},
   "source": [
    "1. Faça um programa que peça ao usuário para digitar a sua idade e verifique se ele é\n",
    "maior de idade ou não. Se for maior de idade, imprima na tela ”Você é maior de\n",
    "idade”, caso contrário, imprima ”Você é menor de idade”"
   ]
  },
  {
   "cell_type": "code",
   "execution_count": 14,
   "metadata": {},
   "outputs": [
    {
     "name": "stdout",
     "output_type": "stream",
     "text": [
      "Você é maior de idade!\n"
     ]
    }
   ],
   "source": [
    "idade = int(input('Digite sua idade'))\n",
    "if idade >= 18:\n",
    "    print('Você é maior de idade!')\n",
    "else:\n",
    "    print('Você é menor de idade.')"
   ]
  },
  {
   "attachments": {},
   "cell_type": "markdown",
   "metadata": {},
   "source": [
    "2. Crie um programa que pede ao usuário para digitar o nome de um animal e verifica\n",
    "se ele é um gato, cachorro ou outro animal. Se for um gato, imprima na tela ”O\n",
    "animal é um gato”. Se for um cachorro, imprima na tela ”O animal é um cachorro”.\n",
    "Se for outro animal, imprima na tela ”O animal não é um gato nem um cachorro”."
   ]
  },
  {
   "cell_type": "code",
   "execution_count": 19,
   "metadata": {},
   "outputs": [
    {
     "name": "stdout",
     "output_type": "stream",
     "text": [
      "O animal não é um gato nem um cachorro\n"
     ]
    }
   ],
   "source": [
    "animal = input('Digite o nome de um animal').lower()\n",
    "match animal:\n",
    "    case 'gato':\n",
    "        print('O animal é um gato.')\n",
    "    case 'cachorro':\n",
    "        print('O animal é um cachorro')\n",
    "    case _:\n",
    "        print('O animal não é um gato nem um cachorro')"
   ]
  },
  {
   "attachments": {},
   "cell_type": "markdown",
   "metadata": {},
   "source": [
    "3. Faça um programa que imprima todos os números ímpares entre 1 e 100."
   ]
  },
  {
   "cell_type": "code",
   "execution_count": null,
   "metadata": {},
   "outputs": [],
   "source": [
    "for x in range(1, 101):\n",
    "    if x%2 != 0:\n",
    "        print(x)"
   ]
  },
  {
   "attachments": {},
   "cell_type": "markdown",
   "metadata": {},
   "source": [
    "4. Crie um programa que solicite ao usuário para digitar uma lista de números e\n",
    "calcule a média desses números. O programa deve continuar a pedir números até\n",
    "que o usuário digite -1”para encerrar a entrada de números."
   ]
  },
  {
   "cell_type": "code",
   "execution_count": 4,
   "metadata": {},
   "outputs": [
    {
     "name": "stdout",
     "output_type": "stream",
     "text": [
      "[1, 2, 3, 4, 5, 6, 7, 8, 9, 0]\n",
      "A lista de números criada é: [1, 2, 3, 4, 5, 6, 7, 8, 9, 0]\n",
      "A média dos números listados é 4.5\n"
     ]
    }
   ],
   "source": [
    "k = []\n",
    "c=0\n",
    "while c!=-1:\n",
    "    c = float(input('Digite um número para sua lista (digite -1 para finalizar)'))\n",
    "    if (c!=-1):\n",
    "        k.append(c)\n",
    "print(k)\n",
    "media = 0\n",
    "for x in k:\n",
    "    media +=x\n",
    "media = media/len(k)\n",
    "print('A lista de números criada é:',k)\n",
    "print('A média dos números listados é',media)"
   ]
  },
  {
   "attachments": {},
   "cell_type": "markdown",
   "metadata": {},
   "source": [
    "5. Faça um programa que recebe um valor n, inteiro e positivo, calcule e mostre a\n",
    "seguinte soma: (pdf)"
   ]
  },
  {
   "cell_type": "code",
   "execution_count": 18,
   "metadata": {},
   "outputs": [
    {
     "name": "stdout",
     "output_type": "stream",
     "text": [
      "2.283333333333333\n"
     ]
    }
   ],
   "source": [
    "n = 0\n",
    "while n <= 0 and n % 1 == 0:\n",
    "    n = int(input('Digite um número'))\n",
    "\n",
    "soma = 1\n",
    "for i in range(2, n + 1):\n",
    "    soma += 1/i\n",
    "\n",
    "print(soma)"
   ]
  },
  {
   "attachments": {},
   "cell_type": "markdown",
   "metadata": {},
   "source": [
    "6. Faça um programa que verifique e mostre os números entre 1000 e 2000 (inclusive)\n",
    "que, quando divididos por 11, produzam resto 5"
   ]
  },
  {
   "cell_type": "code",
   "execution_count": 20,
   "metadata": {},
   "outputs": [
    {
     "name": "stdout",
     "output_type": "stream",
     "text": [
      "5\n",
      "5\n",
      "5\n",
      "5\n",
      "5\n",
      "5\n",
      "5\n",
      "5\n",
      "5\n",
      "5\n",
      "5\n",
      "5\n",
      "5\n",
      "5\n",
      "5\n",
      "5\n",
      "5\n",
      "5\n",
      "5\n",
      "5\n",
      "5\n",
      "5\n",
      "5\n",
      "5\n",
      "5\n",
      "5\n",
      "5\n",
      "5\n",
      "5\n",
      "5\n",
      "5\n",
      "5\n",
      "5\n",
      "5\n",
      "5\n",
      "5\n",
      "5\n",
      "5\n",
      "5\n",
      "5\n",
      "5\n",
      "5\n",
      "5\n",
      "5\n",
      "5\n",
      "5\n",
      "5\n",
      "5\n",
      "5\n",
      "5\n",
      "5\n",
      "5\n",
      "5\n",
      "5\n",
      "5\n",
      "5\n",
      "5\n",
      "5\n",
      "5\n",
      "5\n",
      "5\n",
      "5\n",
      "5\n",
      "5\n",
      "5\n",
      "5\n",
      "5\n",
      "5\n",
      "5\n",
      "5\n",
      "5\n",
      "5\n",
      "5\n",
      "5\n",
      "5\n",
      "5\n",
      "5\n",
      "5\n",
      "5\n",
      "5\n",
      "5\n",
      "5\n",
      "5\n",
      "5\n",
      "5\n",
      "5\n",
      "5\n",
      "5\n",
      "5\n",
      "5\n",
      "5\n"
     ]
    }
   ],
   "source": [
    "for x in range(1000,2001):\n",
    "    if x%11==5:\n",
    "        print(x)"
   ]
  }
 ],
 "metadata": {
  "kernelspec": {
   "display_name": "Python 3",
   "language": "python",
   "name": "python3"
  },
  "language_info": {
   "codemirror_mode": {
    "name": "ipython",
    "version": 3
   },
   "file_extension": ".py",
   "mimetype": "text/x-python",
   "name": "python",
   "nbconvert_exporter": "python",
   "pygments_lexer": "ipython3",
   "version": "3.10.12 (main, Nov 20 2023, 15:14:05) [GCC 11.4.0]"
  },
  "orig_nbformat": 4,
  "vscode": {
   "interpreter": {
    "hash": "916dbcbb3f70747c44a77c7bcd40155683ae19c65e1c03b4aa3499c5328201f1"
   }
  }
 },
 "nbformat": 4,
 "nbformat_minor": 2
}
