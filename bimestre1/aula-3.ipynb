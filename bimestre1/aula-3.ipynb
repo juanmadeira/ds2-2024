{
 "cells": [
  {
   "attachments": {},
   "cell_type": "markdown",
   "metadata": {},
   "source": [
    "1. Verifique se os seguintes valores são truthy ou Falsy (deve ser mostrado o\n",
    "resultado): \\\n",
    "(a) ”abc” \\\n",
    "(b) range(0) \\\n",
    "(c) 123456.789 \\\n",
    "(d) -5 \\\n",
    "(e) None \\\n",
    "(f) not(False) \\\n",
    "(g) False \\\n",
    "(h) print()"
   ]
  },
  {
   "cell_type": "code",
   "execution_count": 11,
   "metadata": {},
   "outputs": [
    {
     "data": {
      "text/plain": [
       "True"
      ]
     },
     "execution_count": 11,
     "metadata": {},
     "output_type": "execute_result"
    }
   ],
   "source": [
    "bool(\"abc\")"
   ]
  },
  {
   "cell_type": "code",
   "execution_count": 12,
   "metadata": {},
   "outputs": [
    {
     "data": {
      "text/plain": [
       "False"
      ]
     },
     "execution_count": 12,
     "metadata": {},
     "output_type": "execute_result"
    }
   ],
   "source": [
    "bool(range(0))"
   ]
  },
  {
   "cell_type": "code",
   "execution_count": 13,
   "metadata": {},
   "outputs": [
    {
     "data": {
      "text/plain": [
       "True"
      ]
     },
     "execution_count": 13,
     "metadata": {},
     "output_type": "execute_result"
    }
   ],
   "source": [
    "bool(123456.789)"
   ]
  },
  {
   "cell_type": "code",
   "execution_count": 14,
   "metadata": {},
   "outputs": [
    {
     "data": {
      "text/plain": [
       "True"
      ]
     },
     "execution_count": 14,
     "metadata": {},
     "output_type": "execute_result"
    }
   ],
   "source": [
    "bool(-5)"
   ]
  },
  {
   "cell_type": "code",
   "execution_count": 15,
   "metadata": {},
   "outputs": [
    {
     "data": {
      "text/plain": [
       "False"
      ]
     },
     "execution_count": 15,
     "metadata": {},
     "output_type": "execute_result"
    }
   ],
   "source": [
    "bool(None)"
   ]
  },
  {
   "attachments": {},
   "cell_type": "markdown",
   "metadata": {},
   "source": [
    "2. Você foi contratado por uma empresa de vendas para criar um programa que\n",
    "gerencie suas vendas. A empresa vende três tipos de produtos: camisetas, calças e\n",
    "sapatos. \\\n",
    "E que o valor de cada camiseta é R$20,00, cada calça custa R$50,00 e cada sapato\n",
    "custa R$100,00. \\\n",
    "O programa deve permitir que o usuário insira o número de cada produto vendido e\n",
    "armazene esses dados em um array, em seguida, calcular e exibir o total de vendas\n",
    "para cada produto e o total geral de vendas."
   ]
  },
  {
   "cell_type": "code",
   "execution_count": 33,
   "metadata": {},
   "outputs": [
    {
     "name": "stdout",
     "output_type": "stream",
     "text": [
      "O total de vendas de camisetas foi de R$400.00\n",
      "O total de vendas de calças foi de R$1500.00\n",
      "O total de vendas de sapatos foi de R$4000.00\n",
      "O total de vendas no geral foi de R$5900.00\n"
     ]
    }
   ],
   "source": [
    "vendas = [\n",
    "    [\"camisetas\", 20, int(input(\"Informe quantas camisetas vendidas: \"))],\n",
    "    [\"calcas\", 50, int(input(\"Informe quantas calças vendidas: \"))],\n",
    "    [\"sapatos\", 100, int(input(\"Informe quantos sapatos vendidos: \"))]\n",
    "]\n",
    "\n",
    "totCamisetas = vendas[0][1] * vendas[0][2]\n",
    "totCalcas = vendas[1][1] * vendas[1][2]\n",
    "totSapatos = vendas[2][1] * vendas[2][2]\n",
    "\n",
    "totGeral = totCamisetas + totCalcas + totSapatos\n",
    "print(\"O total de vendas de camisetas foi de R${camisetas:.2f}\\nO total de vendas de calças foi de R${calcas:.2f}\\nO total de vendas de sapatos foi de R${sapatos:.2f}\\nO total de vendas no geral foi de R${geral:.2f}\".format(camisetas = totCamisetas, calcas = totCalcas, sapatos = totSapatos, geral = totGeral))"
   ]
  }
 ],
 "metadata": {
  "kernelspec": {
   "display_name": "Python 3",
   "language": "python",
   "name": "python3"
  },
  "language_info": {
   "codemirror_mode": {
    "name": "ipython",
    "version": 3
   },
   "file_extension": ".py",
   "mimetype": "text/x-python",
   "name": "python",
   "nbconvert_exporter": "python",
   "pygments_lexer": "ipython3",
   "version": "3.10.12 (main, Nov 20 2023, 15:14:05) [GCC 11.4.0]"
  },
  "orig_nbformat": 4,
  "vscode": {
   "interpreter": {
    "hash": "916dbcbb3f70747c44a77c7bcd40155683ae19c65e1c03b4aa3499c5328201f1"
   }
  }
 },
 "nbformat": 4,
 "nbformat_minor": 2
}
