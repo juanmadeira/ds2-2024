{
 "cells": [
  {
   "attachments": {},
   "cell_type": "markdown",
   "metadata": {},
   "source": [
    "1. Crie um algoritmo que mostre na tela a mensagem “Python é demais!”"
   ]
  },
  {
   "cell_type": "code",
   "execution_count": 2,
   "metadata": {},
   "outputs": [
    {
     "name": "stdout",
     "output_type": "stream",
     "text": [
      "Python é demais!\n"
     ]
    }
   ],
   "source": [
    "print(\"Python  demais!\")"
   ]
  },
  {
   "attachments": {},
   "cell_type": "markdown",
   "metadata": {},
   "source": [
    "2. Crie um algoritmo que possua duas variáveis uma com o seu nome_completo e outra com a sua idade. Ao final mostre a seguinte frase “Me chamo nome_completo e tenho idade anos.” substituindo as palavras em vermelho pelos valores das variáveis."
   ]
  },
  {
   "cell_type": "code",
   "execution_count": 5,
   "metadata": {},
   "outputs": [
    {
     "name": "stdout",
     "output_type": "stream",
     "text": [
      "Me chamo Juan e tenho 18 anos.\n"
     ]
    }
   ],
   "source": [
    "nome_completo = \"Juan\"\n",
    "idade = \"18\"\n",
    "\n",
    "print(\"Me chamo\", nome_completo, \"e tenho\", idade, \"anos.\")"
   ]
  },
  {
   "attachments": {},
   "cell_type": "markdown",
   "metadata": {},
   "source": [
    "3. Crie um algoritmo de uma calculadora simples, ele deve receber dois valores inteiros e ao final deve mostrar na tela o resultado da operação\n",
    "Exemplo:\n",
    "valores de entrada:\n",
    "3\n",
    "5\n",
    "A resposta deve ser:\n",
    "O resultado de 3 + 5 = 8, de 3 - 5 = 2, de 3 * 5 = 15 e de 3 / 5 = 0.6\n",
    "Os números e resultados devem ser substituídos pelos informados/calculados."
   ]
  },
  {
   "cell_type": "code",
   "execution_count": null,
   "metadata": {},
   "outputs": [],
   "source": []
  },
  {
   "attachments": {},
   "cell_type": "markdown",
   "metadata": {},
   "source": [
    "4. Crie um programa que recebe como entrada duas variáveis nome e sobrenome, em seguida crie uma variável nome_completo que recebe a concatenação das outras duas. No fim mostre na tela a variável nome_completo."
   ]
  },
  {
   "cell_type": "code",
   "execution_count": null,
   "metadata": {},
   "outputs": [],
   "source": []
  },
  {
   "attachments": {},
   "cell_type": "markdown",
   "metadata": {},
   "source": [
    "5. Faça um programa que receba um caractere digitado e o armazene numa variável.\n",
    "Em seguida, imprima a mensagem “O caractere digitado foi ()” e imprima o caractere.\n",
    "Não deixe de imprimir uma mensagem inicial indicando que o usuário deve digitar um caractere."
   ]
  },
  {
   "cell_type": "code",
   "execution_count": null,
   "metadata": {},
   "outputs": [],
   "source": []
  },
  {
   "attachments": {},
   "cell_type": "markdown",
   "metadata": {},
   "source": [
    "6. Faça um programa que receba a idade do usuário e o ano atual e mostre uma mensagem informando o ano de nascimento dele para o caso em que ele já fez aniversário no ano atual e para o caso em que ele ainda não fez aniversário.\n",
    "Deixe claro para o usuário o momento no qual ele deve digitar a sua idade e o ano atual."
   ]
  },
  {
   "cell_type": "code",
   "execution_count": null,
   "metadata": {},
   "outputs": [],
   "source": []
  },
  {
   "attachments": {},
   "cell_type": "markdown",
   "metadata": {},
   "source": [
    "7. Faça um programa que peça para o usuário inserir um número e mostre na tela o antecessor e sucessor do número inserido."
   ]
  },
  {
   "cell_type": "code",
   "execution_count": null,
   "metadata": {},
   "outputs": [],
   "source": []
  }
 ],
 "metadata": {
  "kernelspec": {
   "display_name": "Python 3",
   "language": "python",
   "name": "python3"
  },
  "language_info": {
   "codemirror_mode": {
    "name": "ipython",
    "version": 3
   },
   "file_extension": ".py",
   "mimetype": "text/x-python",
   "name": "python",
   "nbconvert_exporter": "python",
   "pygments_lexer": "ipython3",
   "version": "3.10.12 (main, Nov 20 2023, 15:14:05) [GCC 11.4.0]"
  },
  "orig_nbformat": 4,
  "vscode": {
   "interpreter": {
    "hash": "916dbcbb3f70747c44a77c7bcd40155683ae19c65e1c03b4aa3499c5328201f1"
   }
  }
 },
 "nbformat": 4,
 "nbformat_minor": 2
}
